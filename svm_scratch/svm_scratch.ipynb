{
 "cells": [
  {
   "cell_type": "markdown",
   "metadata": {},
   "source": [
    "# Assignment 3\n",
    "## Problem 5\n",
    "### Subrat Prasad Panda, CS1913"
   ]
  },
  {
   "cell_type": "markdown",
   "metadata": {},
   "source": [
    "Design your own SVM which can solve a non-linearly separable overlapped\n",
    "multi-class problem. You may use an available optimization problem solver. You are encouraged to\n",
    "choose a kernel and parameter on your own. Now show the 5-fold cross validated performance of your\n",
    "SVM in the following cases.\n",
    "\n",
    "- Download the Iris flower dataset and train your SVM on class 1 and 3. What is the test performance? Can you show the learned decision boundary for a certain fold if the third and forthfeature of the dataset is used? As the problem is linearly separable you may consider a linear SVM which does not use a kernel.\n",
    "- Now train your SVM to classify all three classes of the Iris dataset. What is the average test accuracy? Remember the classes are overlapped in nature.\n",
    "- Create a subset of the MNIST dataset (consider only the training set) by uniformly sampling (without replacement) 500 points from each classes. Can you train your SVM on such a dataset? What is the average accuracy on such a dataset?"
   ]
  },
  {
   "cell_type": "code",
   "execution_count": 1,
   "metadata": {},
   "outputs": [],
   "source": [
    "# Optimisation\n",
    "import cvxopt\n",
    "import cvxopt.solvers\n",
    "\n",
    "# Math\n",
    "import numpy as np\n",
    "from numpy import linalg\n",
    "\n",
    "#Data processing\n",
    "from sklearn.model_selection import KFold\n",
    "import csv\n",
    "\n",
    "# Plotting\n",
    "import matplotlib\n",
    "import matplotlib.pyplot as plt"
   ]
  },
  {
   "cell_type": "markdown",
   "metadata": {},
   "source": [
    "### CVXOPT Library\n",
    "The CVXOPT library solves the Wolfe dual soft margin constrained optimisation with the following form:\n",
    "$$ \\underset{\\alpha}{min} \\frac{1}{2} \\alpha^T (yy^TK) \\alpha - 1^T \\alpha $$\n",
    "$$s.t. -\\alpha_n \\preceq 0, y.\\alpha = 0$$\n",
    "Where for CVOPT the variables will be,\n",
    "- K: is the Gram matrix of all possible do products of vector $x_n$.\n",
    "- P: $(yy^TG)$ matrix of size N X N\n",
    "- q: $-1^T$ a vector of size N X 1\n",
    "- G: -diag[1] a diagonal matrix of -1 of size N X N\n",
    "- h: 0 vector of size N X 1\n",
    "- b: 0 a scalar\n",
    "- A: y label vector of size N X 1\n",
    "- N: Number of samples points\n",
    "\n",
    "The P, q, G, A and h will be used to call CVOPT API. The $\\alpha$ is the Langragian variable"
   ]
  },
  {
   "cell_type": "code",
   "execution_count": 2,
   "metadata": {},
   "outputs": [],
   "source": [
    "class svm():\n",
    "\n",
    "    def __init__(self, kernel='linear', C=0.0, gamma=1.0, degree=3):\n",
    "        self.C = C #Hyperparameter, C=0 means Hard SVM\n",
    "        self.gamma = gamma #Gaussian Kernel Multimpier 1/sigma\n",
    "        self.degree = degree #Degree of Polynomial kernel\n",
    "        self.kernel = kernel #type of kernel\n",
    "\n",
    "    def linear_kernel(self, x, y):\n",
    "        return np.dot(x, y)\n",
    "\n",
    "    def poly_kernel(self, x, y, degree=3):\n",
    "        return (np.dot(x, y) + 1) ** degree\n",
    "\n",
    "    def rbf_kernel(self, x, y, gamma=0.5):\n",
    "        return np.exp(-gamma*linalg.norm(x - y) ** 2 )\n",
    "    \n",
    "    # Compute the kernel matrix K\n",
    "    def compute_kernel(self, X):\n",
    "        n_samples, n_features = X.shape\n",
    "        # Gram matrix or Kernel trick.\n",
    "        K = np.zeros((n_samples, n_samples))\n",
    "        for i in range(n_samples):\n",
    "            for j in range(n_samples):\n",
    "                if self.kernel == 'linear':\n",
    "                    K[i, j] = self.linear_kernel(X[i], X[j])\n",
    "                if self.kernel=='rbf':\n",
    "                    K[i, j] = self.rbf_kernel(X[i], X[j], self.gamma)   # Kernel trick.\n",
    "                    self.C = None   # Not used in gaussian kernel.\n",
    "                if self.kernel == 'poly':\n",
    "                    K[i, j] = self.polyn_kernel(X[i], X[j], self.degree)\n",
    "        return K\n",
    "\n",
    "\n",
    "    def train(self, X, y):\n",
    "        n_samples, n_features = X.shape\n",
    "        K =  self.compute_kernel(X) #Kernel Matrix\n",
    "        # Converting into cvxopt format:\n",
    "        P = cvxopt.matrix(np.outer(y, y) * K)\n",
    "        q = cvxopt.matrix(np.ones(n_samples) * -1)\n",
    "        A = cvxopt.matrix(y, (1, n_samples))\n",
    "        b = cvxopt.matrix(0.0)\n",
    "\n",
    "        if self.C is None or self.C==0: # For C=0, it's Hard margin SVM\n",
    "            G = cvxopt.matrix(np.identity(n_samples) * -1)\n",
    "            h = cvxopt.matrix(np.zeros(n_samples))\n",
    "        else: # Restricting the langragina variable (alpha) with parameter C.\n",
    "            G = cvxopt.matrix(np.vstack((np.identity(n_samples) * -1, np.identity(n_samples)))) # 0 <= alpha <= C\n",
    "            h = cvxopt.matrix(np.hstack((np.zeros(n_samples), np.ones(n_samples) * self.C))) #[0, 0 , C ,C]\n",
    "\n",
    "        # Setting options of solver:\n",
    "        cvxopt.solvers.options['show_progress'] = False\n",
    "        cvxopt.solvers.options['abstol'] = 1e-10 # (10^-10) very small number\n",
    "        cvxopt.solvers.options['reltol'] = 1e-10\n",
    "        cvxopt.solvers.options['feastol'] = 1e-10\n",
    "\n",
    "        # Solve QP problem:\n",
    "        solution = cvxopt.solvers.qp(P, q, G, h, A, b)\n",
    "\n",
    "        #Solutions\n",
    "        # Lagrange multipliers: Vector on N multipliers\n",
    "        alphas = np.ravel(solution['x']) # Flatten the matrix into a vector of all the Langrangian multipliers.\n",
    "\n",
    "        # Support vectors have non zero lagrange multipliers\n",
    "        sv = alphas > 1e-5 #False and True vector showing the support vectors\n",
    "        index_sv = np.arange(len(alphas))[sv] #index of support vectors\n",
    "        \n",
    "        #Store alpha values and support vector values\n",
    "        self.alphas = alphas[sv] #values of support vectors\n",
    "        self.sv = X[sv] #Store support vectors\n",
    "        self.sv_y = y[sv] #store class of support vectors\n",
    "\n",
    "        # Bias(b of Wx+b):\n",
    "        self.b = 0\n",
    "        for n in range(len(self.alphas)): # For all support vectors:\n",
    "            self.b += self.sv_y[n]\n",
    "            self.b -= np.sum(self.alphas * self.sv_y * K[index_sv[n], sv])\n",
    "        self.b = self.b / len(self.alphas)\n",
    "        \n",
    "         # Weight vector\n",
    "        if self.kernel == 'linear':\n",
    "            self.w = np.zeros(n_features)\n",
    "            for n in range(len(self.alphas)):\n",
    "                self.w += self.alphas[n] * self.sv_y[n] * self.sv[n]\n",
    "        print(\"Training Done!\")\n",
    "\n",
    "\n",
    "    def predict(self, X): # Calculates the hypothesis\n",
    "        y_predict = np.zeros(len(X))\n",
    "        for i in range(len(X)):\n",
    "            value = 0\n",
    "            for a, sv_y, sv in zip(self.alphas, self.sv_y, self.sv): # a : Lagrange multipliers, sv : support vectors.\n",
    "                if self.kernel == 'linear':\n",
    "                    value += a * sv_y * self.linear_kernel(X[i], sv)\n",
    "                if self.kernel=='rbf':\n",
    "                    value += a * sv_y * self.rbf_kernel(X[i], sv, self.gamma)   # Kernel trick.\n",
    "                    self.C = None   # Not used in gaussian kernel.\n",
    "                if self.kernel == 'poly':\n",
    "                    value += a * sv_y * self.poly_kernel(X[i], sv, self.degree)\n",
    "\n",
    "            y_predict[i] = value\n",
    "        return np.sign(y_predict + self.b) #returns Hypothesis: sign(sum^S a * y * kernel + b)"
   ]
  },
  {
   "cell_type": "markdown",
   "metadata": {},
   "source": [
    "X: Rows are the samples and columns are the features\n",
    "\n",
    "y: row vector of class labels"
   ]
  },
  {
   "cell_type": "markdown",
   "metadata": {},
   "source": [
    "### Testing with small example"
   ]
  },
  {
   "cell_type": "code",
   "execution_count": 3,
   "metadata": {},
   "outputs": [
    {
     "name": "stdout",
     "output_type": "stream",
     "text": [
      "Training Done!\n",
      "Total Correct Predictions: 4\n"
     ]
    }
   ],
   "source": [
    "X = np.array([[0, 0],\n",
    "              [0, 1],\n",
    "              [1, 0],\n",
    "              [1, 1]])\n",
    "y = np.array([-1, -1, 1, 1]) #Row Vector\n",
    "y = y.astype('float')\n",
    "test = svm(kernel='linear', C=0.0, gamma=1.0, degree=3)\n",
    "test.train(X, y)\n",
    "y_predict = test.predict(X)\n",
    "correct_predictions = np.sum(y_predict == y) #Number of correct predictions\n",
    "print(f\"Total Correct Predictions: {correct_predictions}\")"
   ]
  },
  {
   "cell_type": "markdown",
   "metadata": {},
   "source": [
    "## 1. IRIS Dataset with only Class 1 and Class 3"
   ]
  },
  {
   "cell_type": "markdown",
   "metadata": {},
   "source": [
    "### Read CSV IRIS data"
   ]
  },
  {
   "cell_type": "code",
   "execution_count": 4,
   "metadata": {},
   "outputs": [],
   "source": [
    "#Read IRIS Dataset\n",
    "data = []\n",
    "with open('datasets/iris.data','r')as f:\n",
    "    file = csv.reader(f)\n",
    "    for row in file:\n",
    "        if row[4] == 'Iris-setosa':\n",
    "            row[4] = '1'\n",
    "            float_list = list(map(float, row)) \n",
    "            data.append(float_list)\n",
    "        \n",
    "        elif row[4] == 'Iris-virginica':\n",
    "            row[4] = '-1'\n",
    "            float_list = list(map(float, row)) \n",
    "            data.append(float_list)\n",
    "\n",
    "data = np.array(data)\n",
    "np.random.shuffle(data) #Shuffle the input data\n",
    "num_of_sample = len(data)\n",
    "\n",
    "# #Generate Test and Training Data from the Sample 80-20%\n",
    "# test_data = data[:int(num_of_sample*0.20)]\n",
    "# training_data = data[int(num_of_sample*0.20):]"
   ]
  },
  {
   "cell_type": "markdown",
   "metadata": {},
   "source": [
    "### Create X and y Matrix from the data"
   ]
  },
  {
   "cell_type": "code",
   "execution_count": 5,
   "metadata": {},
   "outputs": [],
   "source": [
    "X = data[:,:4] # take features\n",
    "y = np.ravel(data[:, -1:]) #take the class labels and flaten to make row vector"
   ]
  },
  {
   "cell_type": "markdown",
   "metadata": {},
   "source": [
    "### Train and Test with 5-Folds cross validation"
   ]
  },
  {
   "cell_type": "code",
   "execution_count": 6,
   "metadata": {},
   "outputs": [
    {
     "name": "stdout",
     "output_type": "stream",
     "text": [
      "Training Done!\n",
      "Training Done!\n",
      "Training Done!\n",
      "Training Done!\n",
      "Training Done!\n"
     ]
    }
   ],
   "source": [
    "kfold = KFold(5, True, 1) # prepare 5 fold cross validation\n",
    "\n",
    "iris1 = svm(kernel='linear')\n",
    "\n",
    "accuracy = 0 #init mse sum with 0\n",
    "for train, test in kfold.split(X):\n",
    "    #kfold:True to use the z values from previous training\n",
    "    iris1.train(X[train], y[train]) #train the svm\n",
    "    y_predict = iris1.predict(X[test])\n",
    "    correct_predictions = np.sum(y_predict == y[test]) #Number of correct predictions\n",
    "    accuracy += (correct_predictions/len(y[test]))*100 #percentage accuracy"
   ]
  },
  {
   "cell_type": "code",
   "execution_count": 7,
   "metadata": {},
   "outputs": [
    {
     "name": "stdout",
     "output_type": "stream",
     "text": [
      "Average Accuracy: 100.0%\n"
     ]
    }
   ],
   "source": [
    "#Compute the average accuracy over 5 folds of testing\n",
    "avg_accuracy = accuracy/5\n",
    "print(f\"Average Accuracy: {avg_accuracy}%\")"
   ]
  },
  {
   "cell_type": "markdown",
   "metadata": {},
   "source": [
    "### Plot the linear classification"
   ]
  },
  {
   "cell_type": "code",
   "execution_count": 8,
   "metadata": {},
   "outputs": [
    {
     "data": {
      "image/png": "[encoded data removed]",
      "text/plain": [
       "<Figure size 432x288 with 1 Axes>"
      ]
     },
     "metadata": {
      "needs_background": "light"
     },
     "output_type": "display_data"
    }
   ],
   "source": [
    "#prepare data for plotting\n",
    "X1 = X[y == 1]\n",
    "X1 = X1[:, 2:4] # +1 classes\n",
    "\n",
    "X2 = X[y == -1]\n",
    "X2 = X2[:, 2:4] # -1 classes\n",
    "\n",
    "\n",
    "def compute_y(x, w, b, c = 0): #coordinate (x1, x2)\n",
    "    return ( (5.8*w[0] + 3*w[1] + w[2] * x + b - c) / -w[3] ) #w.X1 + b = c\n",
    "    # 5.8 and 3 is the average of feature1 and feature2\n",
    "\n",
    "\n",
    "fig = plt.figure()  # create a figure object\n",
    "ax = fig.add_subplot(1, 1, 1)\n",
    "# Format plot area:\n",
    "ax = plt.gca()\n",
    "\n",
    "ax.set_axisbelow(True)\n",
    "x1_min, x1_max = X1.min(), X1.max()\n",
    "x2_min, x2_max = X2.min(), X2.max()\n",
    "# ax.set(xlim=(x1_min, x1_max), ylim=(x2_min, x2_max))\n",
    "\n",
    "# Labels\n",
    "plt.xlabel('$feature 3$', fontsize=9)\n",
    "plt.ylabel('$feature 4$', fontsize=9)\n",
    "\n",
    "# Add the plots:\n",
    "plt.plot(X1[:, 0], X1[:, 1], marker='x',markersize=5, color='lightblue',linestyle='none', label=\"+\")\n",
    "plt.plot(X2[:, 0], X2[:, 1], marker='o',markersize=4, color='darkorange',linestyle='none', label=\"-\")\n",
    "\n",
    "# #Plot Support vectors\n",
    "# plt.scatter(iris1.sv[:, 2], iris1.sv[:, 3], s=60, color=\"blue\")   \n",
    "\n",
    "w = iris1.w\n",
    "b = iris1.b\n",
    "x1_min, x1_max = ax.get_xlim()\n",
    "\n",
    "y1 = compute_y(x1_min, w, b)\n",
    "y2 = compute_y(x1_max, w, b)\n",
    "plt.plot([x1_min, x1_max], [y1, y2], \"k\", label = 'Margin') #Plot Margin\n",
    "\n",
    "# # Margin +: w.x + b = 1\n",
    "# y3 = compute_y(x1_min, w, b, 1)\n",
    "# y4 = compute_y(x1_max, w, b, 1)\n",
    "# plt.plot([x1_min, x1_max], [y3, y4], \"k--\")\n",
    "\n",
    "# # Margin -: w.x + b = -1\n",
    "# y5 = compute_y(x1_min, w, b, -1)\n",
    "# y6 = compute_y(x1_max, w, b, -1)\n",
    "# plt.plot([x1_min, x1_max], [y5, y6], \"k--\")\n",
    "\n",
    "plt.xlim([0.5, 7])\n",
    "plt.ylim([-0.5, 3])\n",
    "plt.legend()\n",
    "plt.title(\"SVM IRIS Plot with feature 3 and feature 4\")\n",
    "plt.show()"
   ]
  },
  {
   "cell_type": "markdown",
   "metadata": {},
   "source": [
    "## 2. IRIS Data with all classes\n",
    "One vs all Method is used"
   ]
  },
  {
   "cell_type": "markdown",
   "metadata": {},
   "source": [
    "For IRIS Setosa"
   ]
  },
  {
   "cell_type": "code",
   "execution_count": 9,
   "metadata": {},
   "outputs": [
    {
     "name": "stdout",
     "output_type": "stream",
     "text": [
      "Training Done!\n",
      "Accuracy: 100.0%\n"
     ]
    }
   ],
   "source": [
    "#Read IRIS Dataset\n",
    "data1 = []\n",
    "with open('datasets/iris.data','r') as f:\n",
    "    file = csv.reader(f)\n",
    "    for row in file:\n",
    "        if row[4] == 'Iris-setosa':\n",
    "            row[4] = '1'\n",
    "            float_list = list(map(float, row)) \n",
    "            data1.append(float_list)\n",
    "        else: #Iris-virginica 'Iris-versicolor' # 'Iris-setosa'\n",
    "            row[4] = '-1'\n",
    "            float_list = list(map(float, row)) \n",
    "            data1.append(float_list)\n",
    "\n",
    "data1 = np.array(data1)\n",
    "X = data1[:,:4] # take features\n",
    "y = np.ravel(data1[:, -1:]) #take the class labels and flaten to make row vector\n",
    "\n",
    "iris2_1 = svm(kernel='rbf')\n",
    "iris2_1.train(X, y) #train the svm\n",
    "y_predict1 = iris2_1.predict(X)\n",
    "correct_predictions = np.sum(y_predict1 == y) #Number of correct predictions\n",
    "accuracy1 = (correct_predictions/len(y))*100 #percentage accuracy\n",
    "print(f\"Accuracy: {accuracy1}%\")"
   ]
  },
  {
   "cell_type": "markdown",
   "metadata": {},
   "source": [
    "Classifier 2"
   ]
  },
  {
   "cell_type": "code",
   "execution_count": 10,
   "metadata": {},
   "outputs": [
    {
     "name": "stdout",
     "output_type": "stream",
     "text": [
      "Training Done!\n",
      "Accuracy: 100.0%\n"
     ]
    }
   ],
   "source": [
    "#Read IRIS Dataset\n",
    "data1 = []\n",
    "with open('datasets/iris.data','r') as f:\n",
    "    file = csv.reader(f)\n",
    "    for row in file:\n",
    "        if row[4] == 'Iris-virginica':\n",
    "            row[4] = '1'\n",
    "            float_list = list(map(float, row)) \n",
    "            data1.append(float_list)\n",
    "        else: #Iris-virginica 'Iris-versicolor' # 'Iris-setosa'\n",
    "            row[4] = '-1'\n",
    "            float_list = list(map(float, row)) \n",
    "            data1.append(float_list)\n",
    "\n",
    "data1 = np.array(data1)\n",
    "X = data1[:,:4] # take features\n",
    "y = np.ravel(data1[:, -1:]) #take the class labels and flaten to make row vector\n",
    "\n",
    "iris2_2 = svm(kernel='rbf')\n",
    "iris2_2.train(X, y) #train the svm\n",
    "y_predict2 = iris2_2.predict(X)\n",
    "correct_predictions = np.sum(y_predict2 == y) #Number of correct predictions\n",
    "accuracy2 = (correct_predictions/len(y))*100 #percentage accuracy\n",
    "print(f\"Accuracy: {accuracy2}%\")"
   ]
  },
  {
   "cell_type": "markdown",
   "metadata": {},
   "source": [
    "Classifier 3"
   ]
  },
  {
   "cell_type": "code",
   "execution_count": 11,
   "metadata": {},
   "outputs": [
    {
     "name": "stdout",
     "output_type": "stream",
     "text": [
      "Training Done!\n",
      "Accuracy: 100.0%\n"
     ]
    }
   ],
   "source": [
    "data1 = []\n",
    "with open('datasets/iris.data','r') as f:\n",
    "    file = csv.reader(f)\n",
    "    for row in file:\n",
    "        if row[4] == 'Iris-versicolor':\n",
    "            row[4] = '1'\n",
    "            float_list = list(map(float, row)) \n",
    "            data1.append(float_list)\n",
    "        else: #Iris-virginica 'Iris-versicolor' # 'Iris-setosa'\n",
    "            row[4] = '-1'\n",
    "            float_list = list(map(float, row)) \n",
    "            data1.append(float_list)\n",
    "\n",
    "data1 = np.array(data1)\n",
    "X = data1[:,:4] # take features\n",
    "y = np.ravel(data1[:, -1:]) #take the class labels and flaten to make row vector\n",
    "\n",
    "iris2_3 = svm(kernel='rbf')\n",
    "iris2_3.train(X, y) #train the svm\n",
    "y_predict3 = iris2_3.predict(X)\n",
    "correct_predictions = np.sum(y_predict3 == y) #Number of correct predictions\n",
    "accuracy3 = (correct_predictions/len(y))*100 #percentage accuracy\n",
    "print(f\"Accuracy: {accuracy3}%\")"
   ]
  },
  {
   "cell_type": "markdown",
   "metadata": {},
   "source": [
    "### Aggegrate all the prediction data from 3 (one vs all) classifiers"
   ]
  },
  {
   "cell_type": "code",
   "execution_count": 12,
   "metadata": {},
   "outputs": [],
   "source": [
    "y_result = [0] * len(y)\n",
    "for row in range(len(y)):\n",
    "    if y_predict1[row] == 1:\n",
    "        y_result[row] = \"Iris-setosa\"\n",
    "    if y_predict2[row] == 1:\n",
    "        y_result[row] = \"Iris-virginica\"\n",
    "    if y_predict3[row] == 1:\n",
    "        y_result[row] = \"Iris-versicolor\""
   ]
  },
  {
   "cell_type": "code",
   "execution_count": 13,
   "metadata": {},
   "outputs": [
    {
     "name": "stdout",
     "output_type": "stream",
     "text": [
      "Accuracy of Final Prediction: 100.0%\n"
     ]
    }
   ],
   "source": [
    "#Read IRIS Dataset\n",
    "correct_predictions = 0\n",
    "i = 0\n",
    "with open('datasets/iris.data','r')as f:\n",
    "    file = csv.reader(f)\n",
    "    for row in file:\n",
    "        if y_result[i] == row[4]:\n",
    "            correct_predictions +=1\n",
    "        i +=1\n",
    "\n",
    "accuracy4 = (correct_predictions/len(y_result))*100 #percentage accuracy\n",
    "print(f\"Accuracy of Final Prediction: {accuracy4}%\")"
   ]
  },
  {
   "cell_type": "markdown",
   "metadata": {},
   "source": [
    "#### The prediction after 3 classifiers is found to be 100% using RBF kernel"
   ]
  },
  {
   "cell_type": "markdown",
   "metadata": {},
   "source": [
    "Problem 3: MNIST dataset can similarly be trained, there 10 classifiers need to be used for one vs all."
   ]
  }
 ],
 "metadata": {
  "kernelspec": {
   "display_name": "Python 3",
   "language": "python",
   "name": "python3"
  },
  "language_info": {
   "codemirror_mode": {
    "name": "ipython",
    "version": 3
   },
   "file_extension": ".py",
   "mimetype": "text/x-python",
   "name": "python",
   "nbconvert_exporter": "python",
   "pygments_lexer": "ipython3",
   "version": "3.7.7"
  }
 },
 "nbformat": 4,
 "nbformat_minor": 4
}
